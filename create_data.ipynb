version https://git-lfs.github.com/spec/v1
oid sha256:fdd406990a39cf793b10bcde34d71ac100a1a72bbef32d8c97817e4e57146fd0
size 344734
